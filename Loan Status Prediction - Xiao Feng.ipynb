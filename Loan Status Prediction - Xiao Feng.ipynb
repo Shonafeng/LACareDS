{
 "cells": [
  {
   "cell_type": "code",
   "execution_count": 48,
   "metadata": {},
   "outputs": [],
   "source": [
    "from io import BytesIO\n",
    "from zipfile import ZipFile\n",
    "from urllib.request import urlopen\n",
    "import pandas as pd\n",
    "import zipfile\n",
    "import numpy as np\n",
    "import seaborn as sns\n",
    "import matplotlib.pyplot as plt\n",
    "from sklearn.preprocessing import StandardScaler\n",
    "from sklearn.linear_model import LogisticRegression\n",
    "from sklearn.feature_selection import VarianceThreshold, SelectKBest,f_classif, SelectFromModel\n",
    "from sklearn.ensemble import ExtraTreesClassifier, RandomForestClassifier\n",
    "from sklearn.model_selection import StratifiedShuffleSplit\n",
    "from imblearn.over_sampling import RandomOverSampler\n",
    "from sklearn.metrics import *\n",
    "import pickle"
   ]
  },
  {
   "cell_type": "code",
   "execution_count": 2,
   "metadata": {},
   "outputs": [],
   "source": [
    "#Load data\n",
    "resp = urlopen(\"https://s3.us-east-2.amazonaws.com/example.data/lacare_ml_challenge.zip\")\n",
    "zipfile = ZipFile(BytesIO(resp.read()))\n",
    "df = pd.read_csv(zipfile.open('loan_data.csv'))"
   ]
  },
  {
   "cell_type": "markdown",
   "metadata": {},
   "source": [
    "### EDA"
   ]
  },
  {
   "cell_type": "code",
   "execution_count": 3,
   "metadata": {},
   "outputs": [
    {
     "name": "stdout",
     "output_type": "stream",
     "text": [
      "<class 'pandas.core.frame.DataFrame'>\n",
      "RangeIndex: 1062952 entries, 0 to 1062951\n",
      "Data columns (total 22 columns):\n",
      "dti                           1062695 non-null float64\n",
      "annual_inc                    1062952 non-null float64\n",
      "delinq_2yrs                   712178 non-null float64\n",
      "inq_last_6mths                1062951 non-null float64\n",
      "open_acc                      1062952 non-null int64\n",
      "pub_rec                       1062952 non-null int64\n",
      "revol_bal                     1062952 non-null int64\n",
      "revol_util                    1062299 non-null float64\n",
      "total_acc                     1062952 non-null int64\n",
      "out_prncp                     1062952 non-null int64\n",
      "out_prncp_inv                 1062952 non-null int64\n",
      "total_rec_late_fee            712178 non-null float64\n",
      "collections_12_mths_ex_med    1062902 non-null float64\n",
      "loan_status                   1062952 non-null object\n",
      "purpose                       1062952 non-null object\n",
      "home_ownership                1062952 non-null object\n",
      "grade                         1062952 non-null object\n",
      "emp_length                    1006218 non-null object\n",
      "term                          1062952 non-null object\n",
      "addr_state                    1062952 non-null object\n",
      "verification_status           1062952 non-null object\n",
      "application_type              1062952 non-null object\n",
      "dtypes: float64(7), int64(6), object(9)\n",
      "memory usage: 178.4+ MB\n"
     ]
    }
   ],
   "source": [
    "df.info()"
   ]
  },
  {
   "cell_type": "markdown",
   "metadata": {},
   "source": [
    "The dataset has in total 1062952 records and 22 fields. Missing values exist in both numeric variables and categorical variables. We need to take a closer look later to come up stratigies to fill the missing values\n",
    "\n",
    "First, let's check the target variable 'loan_status'"
   ]
  },
  {
   "cell_type": "code",
   "execution_count": 4,
   "metadata": {},
   "outputs": [
    {
     "data": {
      "text/plain": [
       "Fully Paid     1041952\n",
       "Charged Off      21000\n",
       "Name: loan_status, dtype: int64"
      ]
     },
     "execution_count": 4,
     "metadata": {},
     "output_type": "execute_result"
    }
   ],
   "source": [
    "df.loan_status.value_counts()"
   ]
  },
  {
   "cell_type": "markdown",
   "metadata": {},
   "source": [
    "Since no missing value in the target and it is binary, we can transform the target to 1 when loan_status='charged off' and 0 when loan_status='Fully Paid'\n"
   ]
  },
  {
   "cell_type": "code",
   "execution_count": 5,
   "metadata": {},
   "outputs": [],
   "source": [
    "df.loan_status=df.loan_status.apply(lambda x: 1 if x=='Charged Off' else 0)"
   ]
  },
  {
   "cell_type": "markdown",
   "metadata": {},
   "source": [
    "##### Numeric Variables"
   ]
  },
  {
   "cell_type": "code",
   "execution_count": 6,
   "metadata": {},
   "outputs": [
    {
     "data": {
      "text/html": [
       "<div>\n",
       "<style scoped>\n",
       "    .dataframe tbody tr th:only-of-type {\n",
       "        vertical-align: middle;\n",
       "    }\n",
       "\n",
       "    .dataframe tbody tr th {\n",
       "        vertical-align: top;\n",
       "    }\n",
       "\n",
       "    .dataframe thead th {\n",
       "        text-align: right;\n",
       "    }\n",
       "</style>\n",
       "<table border=\"1\" class=\"dataframe\">\n",
       "  <thead>\n",
       "    <tr style=\"text-align: right;\">\n",
       "      <th></th>\n",
       "      <th>dti</th>\n",
       "      <th>annual_inc</th>\n",
       "      <th>delinq_2yrs</th>\n",
       "      <th>inq_last_6mths</th>\n",
       "      <th>open_acc</th>\n",
       "      <th>pub_rec</th>\n",
       "      <th>revol_bal</th>\n",
       "      <th>revol_util</th>\n",
       "      <th>total_acc</th>\n",
       "      <th>out_prncp</th>\n",
       "      <th>out_prncp_inv</th>\n",
       "      <th>total_rec_late_fee</th>\n",
       "      <th>collections_12_mths_ex_med</th>\n",
       "      <th>loan_status</th>\n",
       "    </tr>\n",
       "  </thead>\n",
       "  <tbody>\n",
       "    <tr>\n",
       "      <td>count</td>\n",
       "      <td>1.062695e+06</td>\n",
       "      <td>1.062952e+06</td>\n",
       "      <td>712178.000000</td>\n",
       "      <td>1.062951e+06</td>\n",
       "      <td>1.062952e+06</td>\n",
       "      <td>1.062952e+06</td>\n",
       "      <td>1.062952e+06</td>\n",
       "      <td>1.062299e+06</td>\n",
       "      <td>1.062952e+06</td>\n",
       "      <td>1062952.0</td>\n",
       "      <td>1062952.0</td>\n",
       "      <td>7.121780e+05</td>\n",
       "      <td>1.062902e+06</td>\n",
       "      <td>1.062952e+06</td>\n",
       "    </tr>\n",
       "    <tr>\n",
       "      <td>mean</td>\n",
       "      <td>1.782664e+01</td>\n",
       "      <td>7.747530e+04</td>\n",
       "      <td>0.310125</td>\n",
       "      <td>6.314769e-01</td>\n",
       "      <td>1.152160e+01</td>\n",
       "      <td>2.083095e-01</td>\n",
       "      <td>1.643266e+04</td>\n",
       "      <td>5.123123e+01</td>\n",
       "      <td>2.507994e+01</td>\n",
       "      <td>0.0</td>\n",
       "      <td>0.0</td>\n",
       "      <td>8.745719e-01</td>\n",
       "      <td>1.590175e-02</td>\n",
       "      <td>1.975630e-02</td>\n",
       "    </tr>\n",
       "    <tr>\n",
       "      <td>std</td>\n",
       "      <td>1.081004e+01</td>\n",
       "      <td>7.077092e+04</td>\n",
       "      <td>0.863830</td>\n",
       "      <td>9.212500e-01</td>\n",
       "      <td>5.424619e+00</td>\n",
       "      <td>5.886361e-01</td>\n",
       "      <td>2.297172e+04</td>\n",
       "      <td>2.460178e+01</td>\n",
       "      <td>1.196763e+01</td>\n",
       "      <td>0.0</td>\n",
       "      <td>0.0</td>\n",
       "      <td>8.506289e+00</td>\n",
       "      <td>1.426574e-01</td>\n",
       "      <td>1.391618e-01</td>\n",
       "    </tr>\n",
       "    <tr>\n",
       "      <td>min</td>\n",
       "      <td>-1.000000e+00</td>\n",
       "      <td>0.000000e+00</td>\n",
       "      <td>0.000000</td>\n",
       "      <td>0.000000e+00</td>\n",
       "      <td>0.000000e+00</td>\n",
       "      <td>0.000000e+00</td>\n",
       "      <td>0.000000e+00</td>\n",
       "      <td>0.000000e+00</td>\n",
       "      <td>2.000000e+00</td>\n",
       "      <td>0.0</td>\n",
       "      <td>0.0</td>\n",
       "      <td>-1.800000e-09</td>\n",
       "      <td>0.000000e+00</td>\n",
       "      <td>0.000000e+00</td>\n",
       "    </tr>\n",
       "    <tr>\n",
       "      <td>25%</td>\n",
       "      <td>1.145000e+01</td>\n",
       "      <td>4.700000e+04</td>\n",
       "      <td>0.000000</td>\n",
       "      <td>0.000000e+00</td>\n",
       "      <td>8.000000e+00</td>\n",
       "      <td>0.000000e+00</td>\n",
       "      <td>5.939000e+03</td>\n",
       "      <td>3.270000e+01</td>\n",
       "      <td>1.600000e+01</td>\n",
       "      <td>0.0</td>\n",
       "      <td>0.0</td>\n",
       "      <td>0.000000e+00</td>\n",
       "      <td>0.000000e+00</td>\n",
       "      <td>0.000000e+00</td>\n",
       "    </tr>\n",
       "    <tr>\n",
       "      <td>50%</td>\n",
       "      <td>1.714000e+01</td>\n",
       "      <td>6.500000e+04</td>\n",
       "      <td>0.000000</td>\n",
       "      <td>0.000000e+00</td>\n",
       "      <td>1.100000e+01</td>\n",
       "      <td>0.000000e+00</td>\n",
       "      <td>1.115200e+04</td>\n",
       "      <td>5.150000e+01</td>\n",
       "      <td>2.300000e+01</td>\n",
       "      <td>0.0</td>\n",
       "      <td>0.0</td>\n",
       "      <td>0.000000e+00</td>\n",
       "      <td>0.000000e+00</td>\n",
       "      <td>0.000000e+00</td>\n",
       "    </tr>\n",
       "    <tr>\n",
       "      <td>75%</td>\n",
       "      <td>2.347000e+01</td>\n",
       "      <td>9.225000e+04</td>\n",
       "      <td>0.000000</td>\n",
       "      <td>1.000000e+00</td>\n",
       "      <td>1.400000e+01</td>\n",
       "      <td>0.000000e+00</td>\n",
       "      <td>1.989700e+04</td>\n",
       "      <td>7.020000e+01</td>\n",
       "      <td>3.200000e+01</td>\n",
       "      <td>0.0</td>\n",
       "      <td>0.0</td>\n",
       "      <td>0.000000e+00</td>\n",
       "      <td>0.000000e+00</td>\n",
       "      <td>0.000000e+00</td>\n",
       "    </tr>\n",
       "    <tr>\n",
       "      <td>max</td>\n",
       "      <td>9.990000e+02</td>\n",
       "      <td>1.099920e+07</td>\n",
       "      <td>39.000000</td>\n",
       "      <td>8.000000e+00</td>\n",
       "      <td>9.000000e+01</td>\n",
       "      <td>6.300000e+01</td>\n",
       "      <td>2.904836e+06</td>\n",
       "      <td>8.923000e+02</td>\n",
       "      <td>1.620000e+02</td>\n",
       "      <td>0.0</td>\n",
       "      <td>0.0</td>\n",
       "      <td>1.188830e+03</td>\n",
       "      <td>2.000000e+01</td>\n",
       "      <td>1.000000e+00</td>\n",
       "    </tr>\n",
       "  </tbody>\n",
       "</table>\n",
       "</div>"
      ],
      "text/plain": [
       "                dti    annual_inc    delinq_2yrs  inq_last_6mths  \\\n",
       "count  1.062695e+06  1.062952e+06  712178.000000    1.062951e+06   \n",
       "mean   1.782664e+01  7.747530e+04       0.310125    6.314769e-01   \n",
       "std    1.081004e+01  7.077092e+04       0.863830    9.212500e-01   \n",
       "min   -1.000000e+00  0.000000e+00       0.000000    0.000000e+00   \n",
       "25%    1.145000e+01  4.700000e+04       0.000000    0.000000e+00   \n",
       "50%    1.714000e+01  6.500000e+04       0.000000    0.000000e+00   \n",
       "75%    2.347000e+01  9.225000e+04       0.000000    1.000000e+00   \n",
       "max    9.990000e+02  1.099920e+07      39.000000    8.000000e+00   \n",
       "\n",
       "           open_acc       pub_rec     revol_bal    revol_util     total_acc  \\\n",
       "count  1.062952e+06  1.062952e+06  1.062952e+06  1.062299e+06  1.062952e+06   \n",
       "mean   1.152160e+01  2.083095e-01  1.643266e+04  5.123123e+01  2.507994e+01   \n",
       "std    5.424619e+00  5.886361e-01  2.297172e+04  2.460178e+01  1.196763e+01   \n",
       "min    0.000000e+00  0.000000e+00  0.000000e+00  0.000000e+00  2.000000e+00   \n",
       "25%    8.000000e+00  0.000000e+00  5.939000e+03  3.270000e+01  1.600000e+01   \n",
       "50%    1.100000e+01  0.000000e+00  1.115200e+04  5.150000e+01  2.300000e+01   \n",
       "75%    1.400000e+01  0.000000e+00  1.989700e+04  7.020000e+01  3.200000e+01   \n",
       "max    9.000000e+01  6.300000e+01  2.904836e+06  8.923000e+02  1.620000e+02   \n",
       "\n",
       "       out_prncp  out_prncp_inv  total_rec_late_fee  \\\n",
       "count  1062952.0      1062952.0        7.121780e+05   \n",
       "mean         0.0            0.0        8.745719e-01   \n",
       "std          0.0            0.0        8.506289e+00   \n",
       "min          0.0            0.0       -1.800000e-09   \n",
       "25%          0.0            0.0        0.000000e+00   \n",
       "50%          0.0            0.0        0.000000e+00   \n",
       "75%          0.0            0.0        0.000000e+00   \n",
       "max          0.0            0.0        1.188830e+03   \n",
       "\n",
       "       collections_12_mths_ex_med   loan_status  \n",
       "count                1.062902e+06  1.062952e+06  \n",
       "mean                 1.590175e-02  1.975630e-02  \n",
       "std                  1.426574e-01  1.391618e-01  \n",
       "min                  0.000000e+00  0.000000e+00  \n",
       "25%                  0.000000e+00  0.000000e+00  \n",
       "50%                  0.000000e+00  0.000000e+00  \n",
       "75%                  0.000000e+00  0.000000e+00  \n",
       "max                  2.000000e+01  1.000000e+00  "
      ]
     },
     "execution_count": 6,
     "metadata": {},
     "output_type": "execute_result"
    }
   ],
   "source": [
    "df.describe()"
   ]
  },
  {
   "cell_type": "markdown",
   "metadata": {},
   "source": [
    "By checking the rough distributions of numeric variables, we learnt that 'out_prncp' and 'out_prncp_inv' are constant values across all records. I'm dropping them from the dataset. "
   ]
  },
  {
   "cell_type": "code",
   "execution_count": 7,
   "metadata": {},
   "outputs": [],
   "source": [
    "df.drop(['out_prncp','out_prncp_inv'],axis=1,inplace=True)"
   ]
  },
  {
   "cell_type": "code",
   "execution_count": 8,
   "metadata": {},
   "outputs": [
    {
     "data": {
      "text/plain": [
       "dti                              257\n",
       "annual_inc                         0\n",
       "delinq_2yrs                   350774\n",
       "inq_last_6mths                     1\n",
       "open_acc                           0\n",
       "pub_rec                            0\n",
       "revol_bal                          0\n",
       "revol_util                       653\n",
       "total_acc                          0\n",
       "total_rec_late_fee            350774\n",
       "collections_12_mths_ex_med        50\n",
       "loan_status                        0\n",
       "dtype: int64"
      ]
     },
     "execution_count": 8,
     "metadata": {},
     "output_type": "execute_result"
    }
   ],
   "source": [
    "numeric=df.loc[:,df.select_dtypes([np.number]).columns]\n",
    "#number of missing values for each numeric variable\n",
    "numeric.isnull().sum()"
   ]
  },
  {
   "cell_type": "markdown",
   "metadata": {},
   "source": [
    "denlinq_2yrs, total_rec_late_fee,dti"
   ]
  },
  {
   "cell_type": "code",
   "execution_count": 9,
   "metadata": {},
   "outputs": [
    {
     "data": {
      "image/png": "[encoded data removed]",
      "text/plain": [
       "<Figure size 432x288 with 1 Axes>"
      ]
     },
     "metadata": {
      "needs_background": "light"
     },
     "output_type": "display_data"
    }
   ],
   "source": [
    "df.delinq_2yrs.hist()\n",
    "plt.title('Histogram of delinq_2yrs')\n",
    "plt.show()"
   ]
  },
  {
   "cell_type": "markdown",
   "metadata": {},
   "source": [
    "Since 0 to 75th quantile are 0s, fill the missing delinq_2yrs with the median value 0"
   ]
  },
  {
   "cell_type": "code",
   "execution_count": 10,
   "metadata": {},
   "outputs": [],
   "source": [
    "df.delinq_2yrs.fillna(df.delinq_2yrs.median(),inplace=True)"
   ]
  },
  {
   "cell_type": "code",
   "execution_count": 11,
   "metadata": {},
   "outputs": [
    {
     "data": {
      "image/png": "[encoded data removed]",
      "text/plain": [
       "<Figure size 432x288 with 1 Axes>"
      ]
     },
     "metadata": {
      "needs_background": "light"
     },
     "output_type": "display_data"
    }
   ],
   "source": [
    "df.total_rec_late_fee.hist()\n",
    "plt.title('Histogram of total_rec_late_fee')\n",
    "plt.show()"
   ]
  },
  {
   "cell_type": "markdown",
   "metadata": {},
   "source": [
    "Since most values of total_rec_late_fee are 0s, fill missing value with the median value 0"
   ]
  },
  {
   "cell_type": "code",
   "execution_count": 12,
   "metadata": {},
   "outputs": [],
   "source": [
    "df.total_rec_late_fee.fillna(df.total_rec_late_fee.median(),inplace=True)"
   ]
  },
  {
   "cell_type": "code",
   "execution_count": 13,
   "metadata": {},
   "outputs": [
    {
     "data": {
      "image/png": "[encoded data removed]",
      "text/plain": [
       "<Figure size 432x288 with 1 Axes>"
      ]
     },
     "metadata": {
      "needs_background": "light"
     },
     "output_type": "display_data"
    }
   ],
   "source": [
    "df.revol_util.hist()\n",
    "plt.title('Histogram of revol_util')\n",
    "plt.show()"
   ]
  },
  {
   "cell_type": "markdown",
   "metadata": {},
   "source": [
    "revol_util is distributed with long tails on the right. It is better to fill missing value using median"
   ]
  },
  {
   "cell_type": "code",
   "execution_count": 14,
   "metadata": {},
   "outputs": [],
   "source": [
    "df.revol_util.fillna(df.revol_util.median(),inplace=True)"
   ]
  },
  {
   "cell_type": "code",
   "execution_count": 15,
   "metadata": {},
   "outputs": [
    {
     "data": {
      "image/png": "[encoded data removed]",
      "text/plain": [
       "<Figure size 432x288 with 1 Axes>"
      ]
     },
     "metadata": {
      "needs_background": "light"
     },
     "output_type": "display_data"
    }
   ],
   "source": [
    "df.dti.hist()\n",
    "plt.title('Histogram of dti')\n",
    "plt.show()"
   ]
  },
  {
   "cell_type": "markdown",
   "metadata": {},
   "source": [
    "dti has close median and mean, we can fill the missing with either mean or median."
   ]
  },
  {
   "cell_type": "code",
   "execution_count": 16,
   "metadata": {},
   "outputs": [],
   "source": [
    "df.dti.fillna(df.dti.median(),inplace=True)"
   ]
  },
  {
   "cell_type": "code",
   "execution_count": 17,
   "metadata": {},
   "outputs": [
    {
     "data": {
      "image/png": "[encoded data removed]",
      "text/plain": [
       "<Figure size 432x288 with 1 Axes>"
      ]
     },
     "metadata": {
      "needs_background": "light"
     },
     "output_type": "display_data"
    }
   ],
   "source": [
    "df.collections_12_mths_ex_med.hist()\n",
    "plt.title('Histogram of collections_12_mths_ex_med')\n",
    "plt.show()"
   ]
  },
  {
   "cell_type": "markdown",
   "metadata": {},
   "source": [
    "collections_12_mths_ex_med also concentrated at 0, we can use median to fill the missing values"
   ]
  },
  {
   "cell_type": "code",
   "execution_count": 18,
   "metadata": {},
   "outputs": [],
   "source": [
    "df.collections_12_mths_ex_med.fillna(df.collections_12_mths_ex_med.median(),inplace=True)\n",
    "\n"
   ]
  },
  {
   "cell_type": "markdown",
   "metadata": {},
   "source": [
    "inq_last_6mths only has one missing value, fill the missing with median"
   ]
  },
  {
   "cell_type": "code",
   "execution_count": 19,
   "metadata": {},
   "outputs": [],
   "source": [
    "df.inq_last_6mths.fillna(df.inq_last_6mths.median(),inplace=True)"
   ]
  },
  {
   "cell_type": "markdown",
   "metadata": {},
   "source": [
    "Now we can check the heatmap for the numeric variables"
   ]
  },
  {
   "cell_type": "code",
   "execution_count": 20,
   "metadata": {},
   "outputs": [
    {
     "data": {
      "image/png": "[encoded data removed]",
      "text/plain": [
       "<Figure size 432x288 with 2 Axes>"
      ]
     },
     "metadata": {
      "needs_background": "light"
     },
     "output_type": "display_data"
    }
   ],
   "source": [
    "numeric=df.loc[:,df.select_dtypes([np.number]).columns]\n",
    "corr=numeric.corr()\n",
    "\n",
    "sns.heatmap(corr,\n",
    "           vmin=-1, vmax=1, center=0,\n",
    "    cmap=sns.diverging_palette(20, 220, n=200),\n",
    "    square=True)\n",
    "plt.show()"
   ]
  },
  {
   "cell_type": "markdown",
   "metadata": {},
   "source": [
    "Open_acc and total_acc shows high correlation, we can consider use just one of them in the modeling"
   ]
  },
  {
   "cell_type": "markdown",
   "metadata": {},
   "source": [
    "##### Categorical Variables"
   ]
  },
  {
   "cell_type": "code",
   "execution_count": 21,
   "metadata": {},
   "outputs": [
    {
     "data": {
      "text/plain": [
       "purpose                    0\n",
       "home_ownership             0\n",
       "grade                      0\n",
       "emp_length             56734\n",
       "term                       0\n",
       "addr_state                 0\n",
       "verification_status        0\n",
       "application_type           0\n",
       "dtype: int64"
      ]
     },
     "execution_count": 21,
     "metadata": {},
     "output_type": "execute_result"
    }
   ],
   "source": [
    "category=df.loc[:,df.select_dtypes([np.object]).columns]\n",
    "category.isnull().sum()"
   ]
  },
  {
   "cell_type": "code",
   "execution_count": 22,
   "metadata": {},
   "outputs": [
    {
     "data": {
      "text/html": [
       "<div>\n",
       "<style scoped>\n",
       "    .dataframe tbody tr th:only-of-type {\n",
       "        vertical-align: middle;\n",
       "    }\n",
       "\n",
       "    .dataframe tbody tr th {\n",
       "        vertical-align: top;\n",
       "    }\n",
       "\n",
       "    .dataframe thead th {\n",
       "        text-align: right;\n",
       "    }\n",
       "</style>\n",
       "<table border=\"1\" class=\"dataframe\">\n",
       "  <thead>\n",
       "    <tr style=\"text-align: right;\">\n",
       "      <th></th>\n",
       "      <th>purpose</th>\n",
       "      <th>home_ownership</th>\n",
       "      <th>grade</th>\n",
       "      <th>emp_length</th>\n",
       "      <th>term</th>\n",
       "      <th>addr_state</th>\n",
       "      <th>verification_status</th>\n",
       "      <th>application_type</th>\n",
       "    </tr>\n",
       "  </thead>\n",
       "  <tbody>\n",
       "    <tr>\n",
       "      <td>count</td>\n",
       "      <td>1062952</td>\n",
       "      <td>1062952</td>\n",
       "      <td>1062952</td>\n",
       "      <td>1006218</td>\n",
       "      <td>1062952</td>\n",
       "      <td>1062952</td>\n",
       "      <td>1062952</td>\n",
       "      <td>1062952</td>\n",
       "    </tr>\n",
       "    <tr>\n",
       "      <td>unique</td>\n",
       "      <td>14</td>\n",
       "      <td>6</td>\n",
       "      <td>7</td>\n",
       "      <td>11</td>\n",
       "      <td>2</td>\n",
       "      <td>51</td>\n",
       "      <td>3</td>\n",
       "      <td>2</td>\n",
       "    </tr>\n",
       "    <tr>\n",
       "      <td>top</td>\n",
       "      <td>debt_consolidation</td>\n",
       "      <td>MORTGAGE</td>\n",
       "      <td>B</td>\n",
       "      <td>10+ years</td>\n",
       "      <td>36 months</td>\n",
       "      <td>CA</td>\n",
       "      <td>Source Verified</td>\n",
       "      <td>Individual</td>\n",
       "    </tr>\n",
       "    <tr>\n",
       "      <td>freq</td>\n",
       "      <td>609523</td>\n",
       "      <td>542808</td>\n",
       "      <td>333185</td>\n",
       "      <td>354124</td>\n",
       "      <td>842455</td>\n",
       "      <td>156310</td>\n",
       "      <td>405845</td>\n",
       "      <td>1044991</td>\n",
       "    </tr>\n",
       "  </tbody>\n",
       "</table>\n",
       "</div>"
      ],
      "text/plain": [
       "                   purpose home_ownership    grade emp_length       term  \\\n",
       "count              1062952        1062952  1062952    1006218    1062952   \n",
       "unique                  14              6        7         11          2   \n",
       "top     debt_consolidation       MORTGAGE        B  10+ years  36 months   \n",
       "freq                609523         542808   333185     354124     842455   \n",
       "\n",
       "       addr_state verification_status application_type  \n",
       "count     1062952             1062952          1062952  \n",
       "unique         51                   3                2  \n",
       "top            CA     Source Verified       Individual  \n",
       "freq       156310              405845          1044991  "
      ]
     },
     "execution_count": 22,
     "metadata": {},
     "output_type": "execute_result"
    }
   ],
   "source": [
    "category.describe(include='all')"
   ]
  },
  {
   "cell_type": "markdown",
   "metadata": {},
   "source": [
    "Only emp_length has missing values"
   ]
  },
  {
   "cell_type": "code",
   "execution_count": 23,
   "metadata": {},
   "outputs": [
    {
     "data": {
      "text/plain": [
       "10+ years    354124\n",
       "2 years       96256\n",
       "3 years       84927\n",
       "< 1 year      84637\n",
       "1 year        69374\n",
       "5 years       66839\n",
       "4 years       63758\n",
       "NaN           56734\n",
       "6 years       50011\n",
       "8 years       48258\n",
       "7 years       47670\n",
       "9 years       40364\n",
       "Name: emp_length, dtype: int64"
      ]
     },
     "execution_count": 23,
     "metadata": {},
     "output_type": "execute_result"
    }
   ],
   "source": [
    "category.emp_length.value_counts(dropna=False)"
   ]
  },
  {
   "cell_type": "markdown",
   "metadata": {},
   "source": [
    "Fill missing strategy: add a column to indicate NaNs\n",
    "\n",
    "Create dummies for categorical variables. Combine numeric and categorical variables to complete the data cleaning process."
   ]
  },
  {
   "cell_type": "code",
   "execution_count": 24,
   "metadata": {},
   "outputs": [],
   "source": [
    "cat_dummies=pd.get_dummies(category,dummy_na=True)\n",
    "df.drop(category,axis=1,inplace=True)\n",
    "data=pd.concat([df,cat_dummies],axis=1)"
   ]
  },
  {
   "cell_type": "code",
   "execution_count": 25,
   "metadata": {},
   "outputs": [
    {
     "data": {
      "text/plain": [
       "(1062952, 116)"
      ]
     },
     "execution_count": 25,
     "metadata": {},
     "output_type": "execute_result"
    }
   ],
   "source": [
    "data.shape"
   ]
  },
  {
   "cell_type": "markdown",
   "metadata": {},
   "source": [
    "After data cleaning, the matrix size is [1062952*116]. To avoid the curse of dimensionality, we need to eliminate insignificant features to reduce input size goes into the model"
   ]
  },
  {
   "cell_type": "markdown",
   "metadata": {},
   "source": [
    "### Feature Selection"
   ]
  },
  {
   "cell_type": "code",
   "execution_count": 26,
   "metadata": {},
   "outputs": [],
   "source": [
    "X=data.drop(['loan_status'],axis=1)\n",
    "y=data.loan_status\n"
   ]
  },
  {
   "cell_type": "markdown",
   "metadata": {},
   "source": [
    "1. Remove clolumns with no variance"
   ]
  },
  {
   "cell_type": "code",
   "execution_count": 27,
   "metadata": {},
   "outputs": [
    {
     "name": "stdout",
     "output_type": "stream",
     "text": [
      "Index(['purpose_nan', 'home_ownership_nan', 'grade_nan', 'term_nan',\n",
      "       'addr_state_nan', 'verification_status_nan', 'application_type_nan'],\n",
      "      dtype='object')\n"
     ]
    }
   ],
   "source": [
    "minvar=VarianceThreshold(threshold=0)\n",
    "minvar.fit(X)\n",
    "#dropped columns\n",
    "drop_col=X.loc[:,minvar.get_support(indices=False)==False].columns\n",
    "print(drop_col)\n",
    "X.drop(drop_col,axis=1,inplace=True)"
   ]
  },
  {
   "cell_type": "markdown",
   "metadata": {},
   "source": [
    "2. Univariate Feature Selection"
   ]
  },
  {
   "cell_type": "code",
   "execution_count": 28,
   "metadata": {},
   "outputs": [],
   "source": [
    "select1=SelectKBest(f_classif, k=30).fit(X,y)\n",
    "select1_columns=X.columns[select1.get_support(indices=True)]\n"
   ]
  },
  {
   "cell_type": "markdown",
   "metadata": {},
   "source": [
    "3. Feature Selection by logistic Model with L1 regularization"
   ]
  },
  {
   "cell_type": "code",
   "execution_count": 30,
   "metadata": {},
   "outputs": [
    {
     "name": "stderr",
     "output_type": "stream",
     "text": [
      "/anaconda3/envs/python37/lib/python3.7/site-packages/sklearn/linear_model/_sag.py:330: ConvergenceWarning: The max_iter was reached which means the coef_ did not converge\n",
      "  \"the coef_ did not converge\", ConvergenceWarning)\n"
     ]
    }
   ],
   "source": [
    "#Scale input features prepare for regression model\n",
    "X_scale=pd.DataFrame(StandardScaler().fit_transform(X),columns=X.columns)\n",
    "\n",
    "#Logisitc regression with L1 regularization\n",
    "cf=LogisticRegression(penalty='l1',n_jobs=-1,solver='saga').fit(X_scale,y)\n"
   ]
  },
  {
   "cell_type": "code",
   "execution_count": 31,
   "metadata": {},
   "outputs": [],
   "source": [
    "select2=SelectFromModel(cf,prefit=True,max_features=30)\n",
    "select2_columns=X.columns[select2.get_support(indices=True)]\n"
   ]
  },
  {
   "cell_type": "markdown",
   "metadata": {},
   "source": [
    "4. Feauture Selection by ExtraTrees"
   ]
  },
  {
   "cell_type": "code",
   "execution_count": 32,
   "metadata": {},
   "outputs": [],
   "source": [
    "cf_tree=ExtraTreesClassifier(n_estimators=200,n_jobs=-1).fit(X,y)\n",
    "select3=SelectFromModel(cf_tree,prefit=True,max_features=30)\n",
    "select3_columns=X.columns[select3.get_support(indices=True)]\n"
   ]
  },
  {
   "cell_type": "markdown",
   "metadata": {},
   "source": [
    "Now, combine selected features from 3 methods"
   ]
  },
  {
   "cell_type": "code",
   "execution_count": 33,
   "metadata": {},
   "outputs": [
    {
     "data": {
      "text/plain": [
       "35"
      ]
     },
     "execution_count": 33,
     "metadata": {},
     "output_type": "execute_result"
    }
   ],
   "source": [
    "select_final=np.unique(np.concatenate((select1_columns,select2_columns,select3_columns)))\n",
    "len(select_final)"
   ]
  },
  {
   "cell_type": "markdown",
   "metadata": {},
   "source": [
    "35 features were selected for the model training"
   ]
  },
  {
   "cell_type": "markdown",
   "metadata": {},
   "source": [
    "### Model Training"
   ]
  },
  {
   "cell_type": "code",
   "execution_count": 34,
   "metadata": {},
   "outputs": [
    {
     "data": {
      "text/plain": [
       "0    0.980244\n",
       "1    0.019756\n",
       "Name: loan_status, dtype: float64"
      ]
     },
     "execution_count": 34,
     "metadata": {},
     "output_type": "execute_result"
    }
   ],
   "source": [
    "X=X.loc[:,select_final]\n",
    "\n",
    "y.value_counts(normalize=True)"
   ]
  },
  {
   "cell_type": "markdown",
   "metadata": {},
   "source": [
    "Since the target is highly imbalanced, here his couple strategies to take:\n",
    "\n",
    "1) oversampling \n",
    "\n",
    "2) stratified train test spliting"
   ]
  },
  {
   "cell_type": "code",
   "execution_count": 35,
   "metadata": {},
   "outputs": [],
   "source": [
    "# oversampling \n",
    "oversample=RandomOverSampler(sampling_strategy=0.10,random_state=41)\n",
    "X_res, y_res=oversample.fit_resample(X,y)"
   ]
  },
  {
   "cell_type": "code",
   "execution_count": 37,
   "metadata": {},
   "outputs": [],
   "source": [
    "#stratified train test split\n",
    "sp=StratifiedShuffleSplit(test_size=0.3,random_state=41)\n",
    "for i,j in sp.split(X_res,y_res):\n",
    "    train_index, test_index= i, j\n",
    "\n",
    "train_X=X_res.loc[train_index,:]\n",
    "test_X=X_res.loc[test_index,:]\n",
    "train_y=y_res[train_index]\n",
    "test_y=y_res[test_index]\n"
   ]
  },
  {
   "cell_type": "markdown",
   "metadata": {},
   "source": [
    "Fit Model - Random forest\n"
   ]
  },
  {
   "cell_type": "code",
   "execution_count": 40,
   "metadata": {},
   "outputs": [
    {
     "data": {
      "text/plain": [
       "RandomForestClassifier(bootstrap=True, ccp_alpha=0.0, class_weight=None,\n",
       "                       criterion='gini', max_depth=None, max_features='auto',\n",
       "                       max_leaf_nodes=None, max_samples=None,\n",
       "                       min_impurity_decrease=0.0, min_impurity_split=None,\n",
       "                       min_samples_leaf=1, min_samples_split=2,\n",
       "                       min_weight_fraction_leaf=0.0, n_estimators=200,\n",
       "                       n_jobs=None, oob_score=True, random_state=None,\n",
       "                       verbose=0, warm_start=False)"
      ]
     },
     "execution_count": 40,
     "metadata": {},
     "output_type": "execute_result"
    }
   ],
   "source": [
    "cf=RandomForestClassifier(n_estimators=200,oob_score=True,n_job=-1)\n",
    "cf.fit(train_X,train_y)"
   ]
  },
  {
   "cell_type": "code",
   "execution_count": 54,
   "metadata": {},
   "outputs": [
    {
     "data": {
      "text/plain": [
       "1.0"
      ]
     },
     "execution_count": 54,
     "metadata": {},
     "output_type": "execute_result"
    }
   ],
   "source": [
    "cf.score(train_X,train_y)"
   ]
  },
  {
   "cell_type": "code",
   "execution_count": 41,
   "metadata": {},
   "outputs": [
    {
     "data": {
      "text/plain": [
       "0.9973912566589638"
      ]
     },
     "execution_count": 41,
     "metadata": {},
     "output_type": "execute_result"
    }
   ],
   "source": [
    "cf.oob_score_"
   ]
  },
  {
   "cell_type": "markdown",
   "metadata": {},
   "source": [
    "The training dataset shows high accuary.\n",
    "The high out of bag score is also close to 1 which proves the model is not overfitting"
   ]
  },
  {
   "cell_type": "markdown",
   "metadata": {},
   "source": [
    "### Model performance"
   ]
  },
  {
   "cell_type": "markdown",
   "metadata": {},
   "source": [
    "I'm checking the ROC-auc score and precision-recall curve to validate model performance"
   ]
  },
  {
   "cell_type": "code",
   "execution_count": 43,
   "metadata": {},
   "outputs": [],
   "source": [
    "def plot_roc_curve(true,pred,label=None):\n",
    "    fpr, tpr, thresholds = roc_curve(true,pred)\n",
    "    score=roc_auc_score(true,pred)\n",
    "    plt.plot(fpr,tpr,linewidth=2, label=label)\n",
    "    plt.plot([0,1],[0,1],'k--')\n",
    "    plt.axis([0,1,0,1])\n",
    "    plt.xlabel('False Positive Rate')\n",
    "    plt.ylabel('True Positive Rate')\n",
    "    plt.title('ROC-AUC curve: score= {0:0.4f}'.format(score))"
   ]
  },
  {
   "cell_type": "code",
   "execution_count": 45,
   "metadata": {},
   "outputs": [
    {
     "data": {
      "image/png": "[encoded data removed]",
      "text/plain": [
       "<Figure size 432x288 with 1 Axes>"
      ]
     },
     "metadata": {
      "needs_background": "light"
     },
     "output_type": "display_data"
    }
   ],
   "source": [
    "test_pred=cf.predict(test_X)\n",
    "plot_roc_curve(test_y,test_pred)"
   ]
  },
  {
   "cell_type": "code",
   "execution_count": 46,
   "metadata": {},
   "outputs": [],
   "source": [
    "def PRplot(true,pred):\n",
    "    precision, recall, thresholds = precision_recall_curve(true,pred)\n",
    "    average_precision = average_precision_score(true, pred)\n",
    "    plt.step(recall, precision, color='b', alpha=0.2, where='post')\n",
    "    plt.fill_between(recall,precision, alpha=0.2, color='b')\n",
    "    plt.xlabel('Recall')\n",
    "    plt.ylabel('Precision')\n",
    "    plt.ylim([0.0, 1.05])\n",
    "    plt.xlim([0.0, 1.0])\n",
    "    plt.title('Precision-Recall curve: Average Precision {0:0.4f}'.format(average_precision))"
   ]
  },
  {
   "cell_type": "code",
   "execution_count": 47,
   "metadata": {},
   "outputs": [
    {
     "data": {
      "image/png": "[encoded data removed]",
      "text/plain": [
       "<Figure size 432x288 with 1 Axes>"
      ]
     },
     "metadata": {
      "needs_background": "light"
     },
     "output_type": "display_data"
    }
   ],
   "source": [
    "PRplot(test_y,test_pred)"
   ]
  },
  {
   "cell_type": "markdown",
   "metadata": {},
   "source": [
    "#### Significant features"
   ]
  },
  {
   "cell_type": "code",
   "execution_count": 79,
   "metadata": {},
   "outputs": [
    {
     "data": {
      "image/png": "[encoded data removed]",
      "text/plain": [
       "<Figure size 720x720 with 1 Axes>"
      ]
     },
     "metadata": {
      "needs_background": "light"
     },
     "output_type": "display_data"
    }
   ],
   "source": [
    "#get feature importances\n",
    "importances=cf.feature_importances_\n",
    "\n",
    "indices = np.argsort(importances)\n",
    "\n",
    "names=[X.columns[i] for i in indices]\n",
    "plt.figure(figsize=(10,10))\n",
    "plt.barh(range(X.shape[1]),importances[indices])\n",
    "plt.yticks(range(X.shape[1]),names)\n",
    "plt.title('Feature Importance')\n",
    "plt.show()\n"
   ]
  },
  {
   "cell_type": "markdown",
   "metadata": {},
   "source": [
    "#### Conclusion: \n",
    "Both roc-auc curve and precision-recall curve indicate a good model performance on the test dataset. We can conclude this is a model to start with.\n",
    "\n",
    "Strong predictors in the model are dti, revol_bal, revol_util, annual_inc, total_acc\n",
    "\n",
    "With more time permitted, other models can be tried to further improve model performance, such as XGboost, Deep Learning CNN."
   ]
  },
  {
   "cell_type": "markdown",
   "metadata": {},
   "source": [
    "### Package Model for producition cycle"
   ]
  },
  {
   "cell_type": "code",
   "execution_count": 50,
   "metadata": {},
   "outputs": [],
   "source": [
    "pickle.dump(cf,open('model.pkl','wb'))"
   ]
  }
 ],
 "metadata": {
  "kernelspec": {
   "display_name": "Python 3",
   "language": "python",
   "name": "python3"
  },
  "language_info": {
   "codemirror_mode": {
    "name": "ipython",
    "version": 3
   },
   "file_extension": ".py",
   "mimetype": "text/x-python",
   "name": "python",
   "nbconvert_exporter": "python",
   "pygments_lexer": "ipython3",
   "version": "3.7.4"
  }
 },
 "nbformat": 4,
 "nbformat_minor": 2
}
